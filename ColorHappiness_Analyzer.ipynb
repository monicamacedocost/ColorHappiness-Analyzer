{
  "nbformat": 4,
  "nbformat_minor": 0,
  "metadata": {
    "colab": {
      "provenance": [],
      "toc_visible": true,
      "authorship_tag": "ABX9TyPdpNmuPIcswu/nSeXqbIEU",
      "include_colab_link": true
    },
    "kernelspec": {
      "name": "python3",
      "display_name": "Python 3"
    },
    "language_info": {
      "name": "python"
    }
  },
  "cells": [
    {
      "cell_type": "markdown",
      "metadata": {
        "id": "view-in-github",
        "colab_type": "text"
      },
      "source": [
        "<a href=\"https://colab.research.google.com/github/monicamacedocost/ColorHappiness-Analyzer/blob/main/ColorHappiness_Analyzer.ipynb\" target=\"_parent\"><img src=\"https://colab.research.google.com/assets/colab-badge.svg\" alt=\"Open In Colab\"/></a>"
      ]
    },
    {
      "cell_type": "code",
      "source": [
        "!pip install -q -U google-generativeai"
      ],
      "metadata": {
        "id": "oFunEJsNVoaA"
      },
      "execution_count": 5,
      "outputs": []
    },
    {
      "cell_type": "code",
      "source": [
        "# Import the Python SDK\n",
        "import google.generativeai as genai\n",
        "# Used to securely store your API key\n",
        "from google.colab import userdata\n",
        "api_key = userdata.get('SECRET_KEY')\n",
        "genai.configure(api_key=api_key)"
      ],
      "metadata": {
        "id": "-VsuU-mYVqs7"
      },
      "execution_count": 6,
      "outputs": []
    },
    {
      "cell_type": "code",
      "source": [
        "generation_config = {\n",
        "  \"temperature\": 1,\n",
        "  \"top_p\": 0.95,\n",
        "  \"top_k\": 0,\n",
        "  \"max_output_tokens\": 8192,\n",
        "}"
      ],
      "metadata": {
        "id": "PbDukumQVt27"
      },
      "execution_count": 7,
      "outputs": []
    },
    {
      "cell_type": "code",
      "source": [
        "safety_settings = [\n",
        "  {\n",
        "    \"category\": \"HARM_CATEGORY_HARASSMENT\",\n",
        "    \"threshold\": \"BLOCK_MEDIUM_AND_ABOVE\"\n",
        "  },\n",
        "  {\n",
        "    \"category\": \"HARM_CATEGORY_HATE_SPEECH\",\n",
        "    \"threshold\": \"BLOCK_MEDIUM_AND_ABOVE\"\n",
        "  },\n",
        "  {\n",
        "    \"category\": \"HARM_CATEGORY_SEXUALLY_EXPLICIT\",\n",
        "    \"threshold\": \"BLOCK_MEDIUM_AND_ABOVE\"\n",
        "  },\n",
        "  {\n",
        "    \"category\": \"HARM_CATEGORY_DANGEROUS_CONTENT\",\n",
        "    \"threshold\": \"BLOCK_MEDIUM_AND_ABOVE\"\n",
        "  },\n",
        "]\n"
      ],
      "metadata": {
        "id": "9_eD82UEVw_d"
      },
      "execution_count": 8,
      "outputs": []
    },
    {
      "cell_type": "code",
      "source": [
        "system_instruction = \"Como especialista em decoração de interiores altamente qualificado, sua missão é analisar as imagens enviadas e compara qual transmite mais felicidade através das cores utilizadas na decoração. O objetivo é ajudar os usuários a entender como as cores podem influenciar suas emoções e a criar espaços mais felizes e acolhedores em suas próprias casas. Crie uma tabela listando as caracteristicas de cada ambiente.\\n\\n\\n\""
      ],
      "metadata": {
        "id": "F5MBDlsLuKTq"
      },
      "execution_count": 9,
      "outputs": []
    },
    {
      "cell_type": "code",
      "source": [
        "model = genai.GenerativeModel(model_name=\"gemini-1.5-pro-latest\",\n",
        "                              generation_config=generation_config,\n",
        "                              system_instruction=system_instruction,\n",
        "                              safety_settings=safety_settings)"
      ],
      "metadata": {
        "id": "YJ9O6d5WvGN1"
      },
      "execution_count": 10,
      "outputs": []
    },
    {
      "cell_type": "code",
      "source": [
        "chat = model.start_chat(history=[\n",
        "  {\n",
        "    \"role\": \"model\",\n",
        "    \"parts\": [\"## Comparando Ambientes Náutico e Contemporâneo:\\n\\nEmbora ambas as salas apresentem um estilo elegante, elas exploram diferentes sensações através de suas escolhas de cores e elementos de design:\\n\\n**Sala Náutica:**\\n\\n* **Sensação:** Tranquila, serena, sofisticada, com um toque de informalidade.\\n* **Cores:** Azul marinho e branco dominam, evocando a calma e a vastidão do mar. Toques de azul claro e amarelo nas almofadas trazem um pouco de vivacidade sem quebrar a serenidade.\\n* **Destaques:** Sofá branco,  tapetes listrados, elementos decorativos com temática marinha como quadros e estampas, materiais naturais como madeira e corda nos pufes.\\n\\n**Sala Contemporânea:**\\n\\n* **Sensação:** Sofisticada, masculina,  moderna, com um toque de dramaticidade.\\n* **Cores:**  Paleta neutra com predominância de preto, cinza e marrom, transmitindo elegância e serenidade.\\n* **Destaques:** Mobiliário de linhas retas e simples,  decoração minimalista com poucos objetos, tapete de pelo alto para um toque de aconchego.\\n\\n**Comparação:**\\n\\n| Característica     | Sala Náutica     | Sala Contemporânea |\\n|------------------ | ---------------- | ------------------ |\\n| Paleta de Cores     | Azul marinho, branco, toques de amarelo | Preto, cinza, marrom |\\n| Mobiliário         | Elegante, linhas retas, toque rústico | Linhas retas, simples |\\n| Elementos Decorativos | Temática marinha, listras, materiais naturais | Minimalista, pessoal |\\n| Atmosfera         | Tranquila, serena, sofisticada | Sofisticada, masculina, dramática |\\n| Iluminação        | Natural e suave  | Artificial e direcionada |\\n\\n**Conclusão:**\\n\\nA sala náutica é ideal para quem busca um ambiente tranquilo e relaxante com um toque de sofisticação. A sala contemporânea é perfeita para quem deseja um espaço moderno e elegante com um toque masculino. A escolha entre as duas dependerá do seu estilo de vida e da atmosfera que deseja criar em seu espaço.\"]\n",
        "  },\n",
        "])\n",
        "\n"
      ],
      "metadata": {
        "id": "6jdVkLQyvSih"
      },
      "execution_count": 11,
      "outputs": []
    },
    {
      "cell_type": "code",
      "source": [
        "while True:\n",
        "    imagem1 = input(\"Digite o caminho da imagem 1: \")\n",
        "    if imagem1 == \"fim\":\n",
        "        break\n",
        "    imagem2 = input(\"Digite o caminho da imagem 2: \")\n",
        "    if imagem2 == \"fim\":\n",
        "        break\n",
        "    prompt = [genai.upload_file(imagem1), genai.upload_file(imagem2), system_instruction]\n",
        "    response = chat.send_message(prompt)\n",
        "    print(response.text)"
      ],
      "metadata": {
        "colab": {
          "base_uri": "https://localhost:8080/",
          "height": 714
        },
        "id": "BAKIT2yWGUzU",
        "outputId": "baecf4d2-56bb-4e4c-a06a-be66bd0a5a71"
      },
      "execution_count": 16,
      "outputs": [
        {
          "name": "stdout",
          "output_type": "stream",
          "text": [
            "Digite o caminho da imagem 1: /content/5cfc3e22447c9812e0b377428b8db591.jpg\n",
            "Digite o caminho da imagem 2: /content/2822353f2c94017b58980d49f2117ff4.jpg\n",
            "## Análise de Ambientes: Náutico vs. Contemporâneo\n",
            "\n",
            "Vamos explorar como as cores e o design de cada sala podem influenciar a sensação de felicidade:\n",
            "\n",
            "**Sala Náutica:**\n",
            "\n",
            "* **Sensação:** Tranquilidade, serenidade, leveza, com um toque de sofisticação descontraída.\n",
            "* **Cores:** Azul marinho e branco predominam, evocando a calma e a vastidão do mar. Toques de azul claro e amarelo nas almofadas adicionam vivacidade sem quebrar a serenidade.\n",
            "* **Destaques:** Sofá branco confortável, tapetes listrados adicionam dinamismo, elementos decorativos com temática marítima, uso de materiais naturais como madeira e corda.\n",
            "\n",
            "**Sala Contemporânea:**\n",
            "\n",
            "* **Sensação:** Sofisticação, masculinidade, modernidade, com um toque de drama.\n",
            "* **Cores:** Paleta neutra com predominância de preto, cinza e marrom, transmitindo elegância e serenidade.\n",
            "* **Destaques:** Mobiliário de linhas retas e design minimalista, decoração com poucos objetos, tapete de pelo alto para um toque de aconchego.\n",
            "\n",
            "**Comparação:**\n",
            "\n",
            "| Característica     | Sala Náutica     | Sala Contemporânea |\n",
            "|------------------ | ---------------- | ------------------ |\n",
            "| Paleta de Cores     | Azul marinho, branco, toques de cores vivas | Preto, cinza, marrom |\n",
            "| Mobiliário         | Confortável, linhas retas, toque rústico | Linhas retas, simples, moderno |\n",
            "| Elementos Decorativos | Temática marítima, listras, materiais naturais | Minimalista, funcional |\n",
            "| Atmosfera         | Tranquila, serena, leve | Sofisticada, calma, dramática |\n",
            "| Iluminação        | Natural e suave | Artificial e direcionada |\n",
            "\n",
            "**Felicidade e Cor:**\n",
            "\n",
            "A sala náutica, com sua paleta de azuis e brancos, evoca sentimentos de calma e relaxamento, que podem contribuir para a felicidade. Os toques de cores vibrantes adicionam um elemento de alegria e otimismo. O tema náutico pode despertar memórias de férias e momentos felizes à beira-mar.\n",
            "\n",
            "A sala contemporânea, com sua paleta neutra, pode ser vista como um espaço sofisticado e tranquilo, ideal para relaxar e descontrair após um dia agitado. A ausência de cores vibrantes pode ser interpretada como calma e serenidade, o que pode ser positivo para alguns, enquanto outros podem achar monótono.\n",
            "\n",
            "**Conclusão:**\n",
            "\n",
            "Ambas as salas podem evocar sentimentos de felicidade, mas de maneiras diferentes. A sala náutica oferece um ambiente alegre e descontraído, enquanto a sala contemporânea proporciona um espaço elegante e tranquilo. A escolha entre as duas depende das suas preferências pessoais e da atmosfera que você deseja criar em seu lar. \n",
            "\n",
            "Digite o caminho da imagem 1: fim\n"
          ]
        }
      ]
    }
  ]
}